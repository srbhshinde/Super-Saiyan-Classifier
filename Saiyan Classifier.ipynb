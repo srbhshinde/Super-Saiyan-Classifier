{
 "cells": [
  {
   "cell_type": "code",
   "execution_count": 1,
   "metadata": {},
   "outputs": [
    {
     "name": "stderr",
     "output_type": "stream",
     "text": [
      "C:\\Users\\srbhs\\Anaconda3\\lib\\site-packages\\h5py\\__init__.py:36: FutureWarning: Conversion of the second argument of issubdtype from `float` to `np.floating` is deprecated. In future, it will be treated as `np.float64 == np.dtype(float).type`.\n",
      "  from ._conv import register_converters as _register_converters\n",
      "Using TensorFlow backend.\n"
     ]
    }
   ],
   "source": [
    "from keras.models import Sequential\n",
    "from keras.layers import Conv2D, MaxPooling2D\n",
    "from keras.layers import Flatten, Dense, Dropout"
   ]
  },
  {
   "cell_type": "code",
   "execution_count": 2,
   "metadata": {},
   "outputs": [],
   "source": [
    "saiyan = Sequential()"
   ]
  },
  {
   "cell_type": "code",
   "execution_count": 3,
   "metadata": {},
   "outputs": [],
   "source": [
    "saiyan.add(Conv2D(32, (3, 3), input_shape = (150, 150, 3), activation='relu'))\n",
    "\n",
    "saiyan.add(MaxPooling2D((2, 2)))\n",
    "\n",
    "saiyan.add(Conv2D(64, (3, 3), activation='relu'))\n",
    "\n",
    "saiyan.add(MaxPooling2D((2, 2)))\n",
    "\n",
    "saiyan.add(Conv2D(128, (3, 3), activation='relu'))\n",
    "\n",
    "saiyan.add(MaxPooling2D((2, 2)))\n",
    "\n",
    "saiyan.add(Flatten())\n",
    "\n",
    "saiyan.add(Dense(128, activation='relu'))\n",
    "\n",
    "saiyan.add(Dropout(0.2))\n",
    "\n",
    "saiyan.add(Dense(128, activation='relu'))\n",
    "\n",
    "saiyan.add(Dropout(0.3))\n",
    "\n",
    "saiyan.add(Dense(5, activation='softmax'))"
   ]
  },
  {
   "cell_type": "code",
   "execution_count": 4,
   "metadata": {},
   "outputs": [],
   "source": [
    "saiyan.compile(optimizer='adam', loss='categorical_crossentropy', metrics=['accuracy'])"
   ]
  },
  {
   "cell_type": "code",
   "execution_count": 5,
   "metadata": {},
   "outputs": [
    {
     "name": "stdout",
     "output_type": "stream",
     "text": [
      "_________________________________________________________________\n",
      "Layer (type)                 Output Shape              Param #   \n",
      "=================================================================\n",
      "conv2d_1 (Conv2D)            (None, 148, 148, 32)      896       \n",
      "_________________________________________________________________\n",
      "max_pooling2d_1 (MaxPooling2 (None, 74, 74, 32)        0         \n",
      "_________________________________________________________________\n",
      "conv2d_2 (Conv2D)            (None, 72, 72, 64)        18496     \n",
      "_________________________________________________________________\n",
      "max_pooling2d_2 (MaxPooling2 (None, 36, 36, 64)        0         \n",
      "_________________________________________________________________\n",
      "conv2d_3 (Conv2D)            (None, 34, 34, 128)       73856     \n",
      "_________________________________________________________________\n",
      "max_pooling2d_3 (MaxPooling2 (None, 17, 17, 128)       0         \n",
      "_________________________________________________________________\n",
      "flatten_1 (Flatten)          (None, 36992)             0         \n",
      "_________________________________________________________________\n",
      "dense_1 (Dense)              (None, 128)               4735104   \n",
      "_________________________________________________________________\n",
      "dropout_1 (Dropout)          (None, 128)               0         \n",
      "_________________________________________________________________\n",
      "dense_2 (Dense)              (None, 128)               16512     \n",
      "_________________________________________________________________\n",
      "dropout_2 (Dropout)          (None, 128)               0         \n",
      "_________________________________________________________________\n",
      "dense_3 (Dense)              (None, 5)                 645       \n",
      "=================================================================\n",
      "Total params: 4,845,509\n",
      "Trainable params: 4,845,509\n",
      "Non-trainable params: 0\n",
      "_________________________________________________________________\n"
     ]
    }
   ],
   "source": [
    "saiyan.summary()"
   ]
  },
  {
   "cell_type": "code",
   "execution_count": 6,
   "metadata": {},
   "outputs": [],
   "source": [
    "from keras.preprocessing.image import ImageDataGenerator"
   ]
  },
  {
   "cell_type": "code",
   "execution_count": 7,
   "metadata": {},
   "outputs": [],
   "source": [
    "train_datagen = ImageDataGenerator(rescale=1./255, shear_range=0.2, zoom_range=0.2, horizontal_flip=True)\n",
    "\n",
    "test_datagen = ImageDataGenerator(rescale=1./255)"
   ]
  },
  {
   "cell_type": "code",
   "execution_count": 8,
   "metadata": {},
   "outputs": [
    {
     "name": "stdout",
     "output_type": "stream",
     "text": [
      "Found 395 images belonging to 5 classes.\n",
      "Found 31 images belonging to 5 classes.\n"
     ]
    }
   ],
   "source": [
    "training_set = train_datagen.flow_from_directory('dataset/training_set', target_size=(150, 150), batch_size=5, class_mode='categorical')\n",
    "\n",
    "test_set = test_datagen.flow_from_directory('dataset/test_set', target_size=(150, 150), batch_size=5, class_mode='categorical')"
   ]
  },
  {
   "cell_type": "code",
   "execution_count": 9,
   "metadata": {},
   "outputs": [
    {
     "name": "stdout",
     "output_type": "stream",
     "text": [
      "Epoch 1/20\n",
      "79/79 [==============================] - 34s 436ms/step - loss: 1.5279 - acc: 0.3646 - val_loss: 1.6389 - val_acc: 0.1935\n",
      "Epoch 2/20\n",
      "79/79 [==============================] - 33s 418ms/step - loss: 1.3151 - acc: 0.4456 - val_loss: 1.0739 - val_acc: 0.5484\n",
      "Epoch 3/20\n",
      "79/79 [==============================] - 33s 416ms/step - loss: 0.9689 - acc: 0.6127 - val_loss: 0.8327 - val_acc: 0.7419\n",
      "Epoch 4/20\n",
      "79/79 [==============================] - 33s 419ms/step - loss: 0.8963 - acc: 0.6354 - val_loss: 0.7508 - val_acc: 0.6452\n",
      "Epoch 5/20\n",
      "79/79 [==============================] - 33s 419ms/step - loss: 0.7321 - acc: 0.7013 - val_loss: 0.6605 - val_acc: 0.6129\n",
      "Epoch 6/20\n",
      "79/79 [==============================] - 33s 418ms/step - loss: 0.6590 - acc: 0.7291 - val_loss: 0.5872 - val_acc: 0.7742\n",
      "Epoch 7/20\n",
      "79/79 [==============================] - 33s 418ms/step - loss: 0.6676 - acc: 0.7291 - val_loss: 0.5981 - val_acc: 0.7419\n",
      "Epoch 8/20\n",
      "79/79 [==============================] - 33s 420ms/step - loss: 0.6805 - acc: 0.7316 - val_loss: 0.7538 - val_acc: 0.6452\n",
      "Epoch 9/20\n",
      "79/79 [==============================] - 33s 418ms/step - loss: 0.6561 - acc: 0.7494 - val_loss: 0.9641 - val_acc: 0.6452\n",
      "Epoch 10/20\n",
      "79/79 [==============================] - 33s 419ms/step - loss: 0.6632 - acc: 0.7544 - val_loss: 0.6190 - val_acc: 0.7097\n",
      "Epoch 11/20\n",
      "79/79 [==============================] - 33s 419ms/step - loss: 0.6501 - acc: 0.7316 - val_loss: 0.5955 - val_acc: 0.7419\n",
      "Epoch 12/20\n",
      "79/79 [==============================] - 33s 420ms/step - loss: 0.5162 - acc: 0.7975 - val_loss: 0.5754 - val_acc: 0.7742\n",
      "Epoch 13/20\n",
      "79/79 [==============================] - 33s 422ms/step - loss: 0.5074 - acc: 0.8076 - val_loss: 0.4855 - val_acc: 0.7742\n",
      "Epoch 14/20\n",
      "79/79 [==============================] - 33s 421ms/step - loss: 0.4710 - acc: 0.8152 - val_loss: 0.5641 - val_acc: 0.7742\n",
      "Epoch 15/20\n",
      "79/79 [==============================] - 33s 418ms/step - loss: 0.4235 - acc: 0.8278 - val_loss: 0.4749 - val_acc: 0.7742\n",
      "Epoch 16/20\n",
      "79/79 [==============================] - 33s 420ms/step - loss: 0.4523 - acc: 0.8329 - val_loss: 0.6141 - val_acc: 0.7097\n",
      "Epoch 17/20\n",
      "79/79 [==============================] - 33s 419ms/step - loss: 0.4187 - acc: 0.8278 - val_loss: 0.7008 - val_acc: 0.7419\n",
      "Epoch 18/20\n",
      "79/79 [==============================] - 33s 421ms/step - loss: 0.3845 - acc: 0.8430 - val_loss: 0.6985 - val_acc: 0.7419\n",
      "Epoch 19/20\n",
      "79/79 [==============================] - 33s 422ms/step - loss: 0.3723 - acc: 0.8532 - val_loss: 0.7486 - val_acc: 0.7419\n",
      "Epoch 20/20\n",
      "79/79 [==============================] - 33s 419ms/step - loss: 0.3475 - acc: 0.8582 - val_loss: 0.9463 - val_acc: 0.7742\n"
     ]
    },
    {
     "data": {
      "text/plain": [
       "<keras.callbacks.History at 0x2526e0b9588>"
      ]
     },
     "execution_count": 9,
     "metadata": {},
     "output_type": "execute_result"
    }
   ],
   "source": [
    "saiyan.fit_generator(training_set, steps_per_epoch=395/5, epochs=20, validation_data=test_set, validation_steps=31/5)"
   ]
  },
  {
   "cell_type": "code",
   "execution_count": 10,
   "metadata": {},
   "outputs": [
    {
     "data": {
      "text/plain": [
       "{'supersaiyan1': 0,\n",
       " 'supersaiyan2': 1,\n",
       " 'supersaiyan3': 2,\n",
       " 'supersaiyan4': 3,\n",
       " 'supersaiyangod': 4}"
      ]
     },
     "execution_count": 10,
     "metadata": {},
     "output_type": "execute_result"
    }
   ],
   "source": [
    "training_set.class_indices"
   ]
  },
  {
   "cell_type": "code",
   "execution_count": 11,
   "metadata": {},
   "outputs": [],
   "source": [
    "import numpy as np\n",
    "from keras.preprocessing import image"
   ]
  },
  {
   "cell_type": "code",
   "execution_count": 13,
   "metadata": {},
   "outputs": [],
   "source": [
    "def load_img(path):\n",
    "    test_image = image.load_img(path, target_size=(150, 150))\n",
    "    test_image = image.img_to_array(test_image)\n",
    "    test_image = np.expand_dims(test_image, axis=0)\n",
    "    return test_image"
   ]
  },
  {
   "cell_type": "code",
   "execution_count": 14,
   "metadata": {},
   "outputs": [],
   "source": [
    "def classify_saiyan(result):\n",
    "    if result[0][0] == 0:\n",
    "        return('Super Saiyan 1')\n",
    "    elif result[0][0] == 1:\n",
    "        return('Super Saiyan 2')\n",
    "    elif result[0][0] == 2:\n",
    "        return('Super Saiyan 3')\n",
    "    elif result[0][0] == 3:\n",
    "        return('Super Saiyan 4')\n",
    "    else:\n",
    "        return('Super Saiyan God')"
   ]
  },
  {
   "cell_type": "code",
   "execution_count": 24,
   "metadata": {},
   "outputs": [
    {
     "name": "stdout",
     "output_type": "stream",
     "text": [
      "[[0. 0. 0. 0. 1.]]\n"
     ]
    }
   ],
   "source": [
    "test_img = load_img('dataset/predict/ss4.jpg')\n",
    "result = saiyan.predict(test_img)\n",
    "print(result)\n",
    "#classify_saiyan(result)"
   ]
  },
  {
   "cell_type": "code",
   "execution_count": 25,
   "metadata": {},
   "outputs": [],
   "source": [
    "saiyan.save_weights('saiyan')"
   ]
  },
  {
   "cell_type": "code",
   "execution_count": null,
   "metadata": {},
   "outputs": [],
   "source": []
  }
 ],
 "metadata": {
  "kernelspec": {
   "display_name": "Python 3",
   "language": "python",
   "name": "python3"
  },
  "language_info": {
   "codemirror_mode": {
    "name": "ipython",
    "version": 3
   },
   "file_extension": ".py",
   "mimetype": "text/x-python",
   "name": "python",
   "nbconvert_exporter": "python",
   "pygments_lexer": "ipython3",
   "version": "3.6.5"
  }
 },
 "nbformat": 4,
 "nbformat_minor": 2
}
